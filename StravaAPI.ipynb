{
 "cells": [
  {
   "cell_type": "markdown",
   "metadata": {},
   "source": [
    "# Part 0"
   ]
  },
  {
   "cell_type": "markdown",
   "metadata": {},
   "source": [
    "## Create a Strava API Application"
   ]
  },
  {
   "cell_type": "markdown",
   "metadata": {},
   "source": [
    "Follow the steps in this article to create a Strava API application.\n",
    "\n",
    "https://medium.com/@lejczak.learn/get-your-strava-activity-data-using-python-2023-%EF%B8%8F-b03b176965d0"
   ]
  },
  {
   "cell_type": "markdown",
   "metadata": {},
   "source": [
    "Use this URL and replace [client_id] with your client id.\n",
    "\n",
    "https://www.strava.com/oauth/authorize?client_id=[client_id]&response_type=code&redirect_uri=http://localhost/exchange_token&approval_prompt=force&scope=activity:read_all\n",
    "\n",
    "\n"
   ]
  },
  {
   "cell_type": "markdown",
   "metadata": {},
   "source": [
    "Copy code from localhost URL and paste here. Then, copy the below script and paste it into Terminal / Command Prompt to receive refresh token.\n",
    "\n",
    "curl -X POST https://www.strava.com/oauth/token \\\n",
    "-F client_id=[client_id] \\\n",
    "-F client_secret=[client_secret] \\\n",
    "-F code=[code] \\\n",
    "-F grant_type=authorization_code"
   ]
  },
  {
   "cell_type": "markdown",
   "metadata": {},
   "source": [
    "Once we have our client id, client secret, and refresh token, we are ready to use Strava's API."
   ]
  },
  {
   "cell_type": "markdown",
   "metadata": {},
   "source": [
    "# Part 1"
   ]
  },
  {
   "cell_type": "markdown",
   "metadata": {},
   "source": [
    "## Using Strava API to retrieve data"
   ]
  },
  {
   "cell_type": "code",
   "execution_count": 1,
   "metadata": {},
   "outputs": [],
   "source": [
    "import numpy as np\n",
    "import pandas as pd\n",
    "import requests\n",
    "import urllib3\n",
    "import time\n",
    "from calendar import timegm\n",
    "from osc_gen import sig\n",
    "from osc_gen import wavetable\n",
    "from osc_gen import visualize\n",
    "\n",
    "# disable warnings\n",
    "urllib3.disable_warnings(urllib3.exceptions.InsecureRequestWarning)"
   ]
  },
  {
   "cell_type": "markdown",
   "metadata": {},
   "source": [
    "## Defining functions to scrape Strava and transform data"
   ]
  },
  {
   "cell_type": "code",
   "execution_count": 4,
   "metadata": {},
   "outputs": [],
   "source": [
    "# defining function to compress/stretch data to be of length 2048, peak between -1 and 1, and have mean 0\n",
    "def wav_transform(arr, numSamples=2048):\n",
    "\n",
    "    transform = np.interp(np.linspace(0, len(arr), numSamples), np.arange(len(arr)), arr)\n",
    "    transform -= np.mean(transform)\n",
    "    transform /= np.max(abs(transform))\n",
    "   \n",
    "    return transform"
   ]
  },
  {
   "cell_type": "markdown",
   "metadata": {},
   "source": [
    "Prior to executing the code below, I ran the loop_through_pages function once to retrieve all of my activities, and I stored the resulting output into a .csv file titled 'strava_activities.csv'"
   ]
  },
  {
   "cell_type": "code",
   "execution_count": null,
   "metadata": {},
   "outputs": [],
   "source": [
    "# defining function to iterate through Strava API\n",
    "def loop_through_pages(page):\n",
    "    # start at page ...\n",
    "    page = page\n",
    "    # set new_results to True initially\n",
    "    new_results = True\n",
    "    # create an empty array to store our combined pages of data in\n",
    "    data = []\n",
    "    while new_results:\n",
    "        # Give some feedback\n",
    "        print(f'You are requesting page {page} of your activities data ...')\n",
    "        # request a page + 200 results\n",
    "        get_strava = requests.get(activities_url, headers=header, params={'per_page': 200, 'page': f'{page}'}).json()\n",
    "        # save the response to new_results to check if its empty or not and close the loop\n",
    "        new_results = get_strava\n",
    "        # add our responses to the data array\n",
    "        data.extend(get_strava)\n",
    "        # increment the page\n",
    "        page += 1\n",
    "    # return the combine results of our get requests\n",
    "    return data\n",
    "\n",
    "loop_through_pages(1)"
   ]
  },
  {
   "cell_type": "markdown",
   "metadata": {},
   "source": [
    "## Setting up variables to pass to API and pull new activities"
   ]
  },
  {
   "cell_type": "code",
   "execution_count": 5,
   "metadata": {},
   "outputs": [],
   "source": [
    "# setting location to save .wav files\n",
    "location = \"/Users/kevinstabinski/Dropbox/YouTube/Turning Fitness Data Into Sound/data/Kev's Kits - Movements/wavs\"\n",
    "\n",
    "# read activities .csv and get time of most recent activity\n",
    "activities = pd.read_csv('strava_activities.csv')\n",
    "utc_time = time.strptime(activities['start_date'].max(), \"%Y-%m-%dT%H:%M:%SZ\")\n",
    "epoch_time = timegm(utc_time) + 1\n",
    "\n",
    "\n",
    "# parameters for API\n",
    "client_id     = 'xxx'\n",
    "client_secret = 'xxx'\n",
    "refresh_token = 'xxx'\n",
    "\n",
    "# create urls to get access token and activities\n",
    "auth_url = 'https://www.strava.com/oauth/token'\n",
    "activities_url = 'https://www.strava.com/api/v3/athlete/activities'\n",
    "\n",
    "# information to recieve access token\n",
    "payload = {\n",
    "    'client_id': f'{client_id}',\n",
    "    'client_secret': f'{client_secret}',\n",
    "    'refresh_token': f'{refresh_token}',\n",
    "    'grant_type': \"refresh_token\",\n",
    "    'f': 'json'\n",
    "}\n",
    "\n",
    "# request to get access token and create header with access token\n",
    "res = requests.post(auth_url, data = payload, verify = False)\n",
    "access_token = res.json()['access_token']\n",
    "header = {'Authorization': 'Bearer ' + access_token}\n",
    "\n",
    "# pull all activities after most recent activity\n",
    "get_strava = requests.get(activities_url, headers=header, params={'after': epoch_time}).json()\n",
    "\n",
    "# save new activities as dataframe\n",
    "new_activities = pd.json_normalize(get_strava)"
   ]
  },
  {
   "cell_type": "code",
   "execution_count": 6,
   "metadata": {},
   "outputs": [],
   "source": [
    "# if there are new activities, add them to the activities .csv and save\n",
    "if not new_activities.empty:\n",
    "    activities = pd.concat([activities, new_activities], ignore_index= True)\n",
    "    activities = activities.sort_values('start_date', ascending = False)\n",
    "    \n",
    "    \n",
    "    activities.to_csv('strava_activities.csv', index = False)"
   ]
  },
  {
   "cell_type": "code",
   "execution_count": 8,
   "metadata": {},
   "outputs": [],
   "source": [
    "# go through new activities from API pull\n",
    "for i in range(len(new_activities)):\n",
    "\n",
    "    \n",
    "    # obtain necessary variables from activity\n",
    "    id = new_activities['id'][i]\n",
    "    start_time = new_activities['start_date'][i]\n",
    "    date = start_time.split('T')[0]\n",
    "    type = new_activities['type'][i].lower()\n",
    "\n",
    "    # specify API url\n",
    "    routes_url = f\"https://www.strava.com/api/v3/activities/{id}/streams\"\n",
    "\n",
    "    # only perform transformation on activities that have positional data\n",
    "    if type == 'run' or type == 'ride' or type == 'walk':\n",
    "        # obtain latitude, longitude, elevation for each activity\n",
    "        latlong = requests.get(routes_url, headers=header, params={'keys': ['latlng']}).json()[0]['data']\n",
    "        elevation = requests.get(routes_url, headers=header, params={'keys': ['altitude']}).json()[1]['data']\n",
    "\n",
    "        # create dataframe with this variables\n",
    "        data = pd.DataFrame([*latlong], columns=['latitude','longitude'])\n",
    "        data['elevation'] = elevation\n",
    "\n",
    "        # perform transformation and store as another dataframe\n",
    "        wav_data = {'longitude' : wav_transform(data['longitude']),\n",
    "                    'latitude'  : wav_transform(data['latitude']),\n",
    "                    'elevation' : wav_transform(data['elevation'])}\n",
    "        wav_data = pd.DataFrame(data = wav_data)\n",
    "\n",
    "\n",
    "        # create objects from osc_gen\n",
    "        sg = sig.SigGen()\n",
    "        wt = wavetable.WaveTable(16)\n",
    "\n",
    "\n",
    "        # morph between longitude, elevation, latitude to give it a smooth feel\n",
    "        wt.waves = sig.morph((wav_data['longitude'], wav_data['elevation'], wav_data['latitude'] ), 16)\n",
    "\n",
    "        # name file and save as .wav\n",
    "        wavname = location + '/' f'kev_{type}_{date}.wav'\n",
    "        wt.to_wav(wavname, samplerate=48000)"
   ]
  }
 ],
 "metadata": {
  "kernelspec": {
   "display_name": "base",
   "language": "python",
   "name": "python3"
  },
  "language_info": {
   "codemirror_mode": {
    "name": "ipython",
    "version": 3
   },
   "file_extension": ".py",
   "mimetype": "text/x-python",
   "name": "python",
   "nbconvert_exporter": "python",
   "pygments_lexer": "ipython3",
   "version": "3.11.8"
  }
 },
 "nbformat": 4,
 "nbformat_minor": 2
}
